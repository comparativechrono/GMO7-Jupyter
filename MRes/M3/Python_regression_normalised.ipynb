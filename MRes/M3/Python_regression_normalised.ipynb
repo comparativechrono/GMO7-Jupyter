{
  "nbformat": 4,
  "nbformat_minor": 0,
  "metadata": {
    "colab": {
      "provenance": [],
      "authorship_tag": "ABX9TyPUvWNDMbF7bM43Jy6rll6b",
      "include_colab_link": true
    },
    "kernelspec": {
      "name": "python3",
      "display_name": "Python 3"
    },
    "language_info": {
      "name": "python"
    }
  },
  "cells": [
    {
      "cell_type": "markdown",
      "metadata": {
        "id": "view-in-github",
        "colab_type": "text"
      },
      "source": [
        "<a href=\"https://colab.research.google.com/github/comparativechrono/GMO7-Jupyter/blob/main/MRes/M3/Python_regression_normalised.ipynb\" target=\"_parent\"><img src=\"https://colab.research.google.com/assets/colab-badge.svg\" alt=\"Open In Colab\"/></a>"
      ]
    },
    {
      "cell_type": "code",
      "execution_count": null,
      "metadata": {
        "id": "KRPmeeTLNbKf"
      },
      "outputs": [],
      "source": [
        "# Import necessary libraries\n",
        "import numpy as np\n",
        "import pandas as pd\n",
        "import matplotlib.pyplot as plt\n",
        "import seaborn as sns\n",
        "from sklearn.preprocessing import MinMaxScaler\n",
        "from sklearn.linear_model import LinearRegression\n",
        "\n",
        "# Load dataset\n",
        "file_path = '/content/clinical_genomic_toy_data.csv'\n",
        "data = pd.read_csv(file_path)\n",
        "\n",
        "# Separate features and target\n",
        "X = data.drop(columns=['Disease_Progression'])\n",
        "y = data['Disease_Progression']\n",
        "\n",
        "# Select a subset of features for visualization\n",
        "sample_features = ['Gene_1', 'Family_History', 'Age', 'BMI']\n",
        "X_sample = X[sample_features]\n",
        "\n",
        "# Plot original feature distributions\n",
        "plt.figure(figsize=(12, 6))\n",
        "for i, feature in enumerate(sample_features, 1):\n",
        "    plt.subplot(2, 2, i)\n",
        "    sns.histplot(X_sample[feature], kde=True)\n",
        "    plt.title(f\"Original Distribution of {feature}\")\n",
        "plt.tight_layout()\n",
        "plt.show()\n",
        "\n",
        "# Apply 0-1 normalisation\n",
        "scaler = MinMaxScaler()\n",
        "X_sample_scaled = pd.DataFrame(scaler.fit_transform(X_sample), columns=sample_features)\n",
        "\n",
        "# Plot scaled feature distributions\n",
        "plt.figure(figsize=(12, 6))\n",
        "for i, feature in enumerate(sample_features, 1):\n",
        "    plt.subplot(2, 2, i)\n",
        "    sns.histplot(X_sample_scaled[feature], kde=True)\n",
        "    plt.title(f\"Z-Scaled Distribution of {feature}\")\n",
        "plt.tight_layout()\n",
        "plt.show()\n",
        "\n",
        "# Fit Linear Regression on Original and Scaled Data\n",
        "lin_reg_original = LinearRegression()\n",
        "lin_reg_original.fit(X_sample, y)\n",
        "\n",
        "lin_reg_scaled = LinearRegression()\n",
        "lin_reg_scaled.fit(X_sample_scaled, y)\n",
        "\n",
        "# Display coefficients for comparison\n",
        "coefficients_df = pd.DataFrame({\n",
        "    'Feature': sample_features,\n",
        "    'Original Coefficients': lin_reg_original.coef_,\n",
        "    'Scaled Coefficients': lin_reg_scaled.coef_\n",
        "})\n",
        "\n",
        "print(coefficients_df)\n"
      ]
    }
  ]
}
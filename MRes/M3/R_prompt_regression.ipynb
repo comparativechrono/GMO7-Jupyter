{
  "cells": [
    {
      "cell_type": "markdown",
      "metadata": {
        "id": "view-in-github",
        "colab_type": "text"
      },
      "source": [
        "<a href=\"https://colab.research.google.com/github/comparativechrono/GMO7-Jupyter/blob/main/MRes/M3/R_prompt_regression.ipynb\" target=\"_parent\"><img src=\"https://colab.research.google.com/assets/colab-badge.svg\" alt=\"Open In Colab\"/></a>"
      ]
    },
    {
      "cell_type": "code",
      "source": [
        "install.packages(\"glmnet\")\n",
        "install.packages(\"caret\")"
      ],
      "metadata": {
        "id": "r3loWRUQ1BTo"
      },
      "id": "r3loWRUQ1BTo",
      "execution_count": null,
      "outputs": []
    },
    {
      "cell_type": "code",
      "source": [
        "# Load necessary libraries\n",
        "library(glmnet)\n",
        "library(caret)\n",
        "library(tidyverse)\n",
        "\n",
        "# Load dataset\n",
        "file_path <- '/content/clinical_genomic_toy_data.csv'  # Replace with actual path\n",
        "data <- read.csv(file_path)\n",
        "\n",
        "# Separate features and target\n",
        "X <- data %>% select(-Disease_Progression)\n",
        "y <- data$Disease_Progression\n",
        "\n",
        "# Split data into training and testing sets\n",
        "set.seed(42)\n",
        "trainIndex <- createDataPartition(y, p = .8, list = FALSE)\n",
        "trainData <- data[trainIndex, ]\n",
        "testData <- data[-trainIndex, ]\n",
        "\n",
        "# Display dataset information\n",
        "str(data)\n",
        "summary(select(data, Age, Gender, BMI, Smoking_Status, Family_History))\n"
      ],
      "metadata": {
        "id": "SU0k0zRh0pqX"
      },
      "id": "SU0k0zRh0pqX",
      "execution_count": null,
      "outputs": []
    }
  ],
  "metadata": {
    "kernelspec": {
      "display_name": "R",
      "language": "R",
      "name": "ir"
    },
    "language_info": {
      "codemirror_mode": "r",
      "file_extension": ".r",
      "mimetype": "text/x-r-source",
      "name": "R",
      "pygments_lexer": "r",
      "version": "3.5.1"
    },
    "colab": {
      "provenance": [],
      "include_colab_link": true
    }
  },
  "nbformat": 4,
  "nbformat_minor": 5
}
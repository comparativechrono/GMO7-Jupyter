{
  "cells": [
    {
      "cell_type": "markdown",
      "metadata": {
        "id": "view-in-github",
        "colab_type": "text"
      },
      "source": [
        "<a href=\"https://colab.research.google.com/github/comparativechrono/GMO7-Jupyter/blob/main/R_template.ipynb\" target=\"_parent\"><img src=\"https://colab.research.google.com/assets/colab-badge.svg\" alt=\"Open In Colab\"/></a>"
      ]
    },
    {
      "cell_type": "markdown",
      "source": [
        "# Let's use R to do our assignment!"
      ],
      "metadata": {
        "id": "22kKYOgy1q1b"
      },
      "id": "22kKYOgy1q1b"
    },
    {
      "cell_type": "code",
      "source": [
        "install.packages(\"tidyverse\")"
      ],
      "metadata": {
        "colab": {
          "base_uri": "https://localhost:8080/"
        },
        "id": "Nda-A3-d1or7",
        "outputId": "30424d15-469a-4dc8-ef9d-419dd54548e6"
      },
      "id": "Nda-A3-d1or7",
      "execution_count": 5,
      "outputs": [
        {
          "output_type": "stream",
          "name": "stderr",
          "text": [
            "Installing package into ‘/usr/local/lib/R/site-library’\n",
            "(as ‘lib’ is unspecified)\n",
            "\n"
          ]
        }
      ]
    },
    {
      "cell_type": "code",
      "source": [
        "library(tidyverse)"
      ],
      "metadata": {
        "id": "eZCC_lJC1xPs"
      },
      "id": "eZCC_lJC1xPs",
      "execution_count": 7,
      "outputs": []
    },
    {
      "cell_type": "code",
      "source": [
        "x <- read_tsv(\"assignment_data.tsv\")"
      ],
      "metadata": {
        "colab": {
          "base_uri": "https://localhost:8080/"
        },
        "id": "N6t82X_d2CEi",
        "outputId": "0cd9a39d-2399-4a67-d6b0-3afb48f454b2"
      },
      "id": "N6t82X_d2CEi",
      "execution_count": 8,
      "outputs": [
        {
          "output_type": "stream",
          "name": "stderr",
          "text": [
            "\u001b[1mRows: \u001b[22m\u001b[34m148\u001b[39m \u001b[1mColumns: \u001b[22m\u001b[34m6\u001b[39m\n",
            "\u001b[36m──\u001b[39m \u001b[1mColumn specification\u001b[22m \u001b[36m────────────────────────────────────────────────────────\u001b[39m\n",
            "\u001b[1mDelimiter:\u001b[22m \"\\t\"\n",
            "\u001b[31mchr\u001b[39m (4): Phenotype, Sex_chromosomes, rs139052738, rs886040801\n",
            "\u001b[32mdbl\u001b[39m (2): Expression BMX, Expression BRCA2\n",
            "\n",
            "\u001b[36mℹ\u001b[39m Use `spec()` to retrieve the full column specification for this data.\n",
            "\u001b[36mℹ\u001b[39m Specify the column types or set `show_col_types = FALSE` to quiet this message.\n"
          ]
        }
      ]
    },
    {
      "cell_type": "code",
      "source": [
        "head(x)"
      ],
      "metadata": {
        "colab": {
          "base_uri": "https://localhost:8080/",
          "height": 286
        },
        "id": "CDX8ERNGXLWZ",
        "outputId": "0a756552-a781-45f3-8538-3d73003bf515"
      },
      "id": "CDX8ERNGXLWZ",
      "execution_count": 20,
      "outputs": [
        {
          "output_type": "display_data",
          "data": {
            "text/html": [
              "<table class=\"dataframe\">\n",
              "<caption>A tibble: 6 × 6</caption>\n",
              "<thead>\n",
              "\t<tr><th scope=col>Phenotype</th><th scope=col>Sex_chromosomes</th><th scope=col>rs139052738</th><th scope=col>rs886040801</th><th scope=col>Expression BMX</th><th scope=col>Expression BRCA2</th></tr>\n",
              "\t<tr><th scope=col>&lt;chr&gt;</th><th scope=col>&lt;chr&gt;</th><th scope=col>&lt;chr&gt;</th><th scope=col>&lt;chr&gt;</th><th scope=col>&lt;dbl&gt;</th><th scope=col>&lt;dbl&gt;</th></tr>\n",
              "</thead>\n",
              "<tbody>\n",
              "\t<tr><td>unaffected</td><td>XX</td><td>C/T</td><td>T/T</td><td>317</td><td>497.0</td></tr>\n",
              "\t<tr><td>unaffected</td><td>XY</td><td>T  </td><td>G/T</td><td>333</td><td>252.0</td></tr>\n",
              "\t<tr><td>unaffected</td><td>XX</td><td>C/T</td><td>G/T</td><td>300</td><td>274.5</td></tr>\n",
              "\t<tr><td>unaffected</td><td>XY</td><td>T  </td><td>G/T</td><td>334</td><td>283.0</td></tr>\n",
              "\t<tr><td>unaffected</td><td>XX</td><td>C/C</td><td>T/T</td><td>379</td><td>412.0</td></tr>\n",
              "\t<tr><td>unaffected</td><td>XX</td><td>C/T</td><td>G/T</td><td>391</td><td>237.0</td></tr>\n",
              "</tbody>\n",
              "</table>\n"
            ],
            "text/markdown": "\nA tibble: 6 × 6\n\n| Phenotype &lt;chr&gt; | Sex_chromosomes &lt;chr&gt; | rs139052738 &lt;chr&gt; | rs886040801 &lt;chr&gt; | Expression BMX &lt;dbl&gt; | Expression BRCA2 &lt;dbl&gt; |\n|---|---|---|---|---|---|\n| unaffected | XX | C/T | T/T | 317 | 497.0 |\n| unaffected | XY | T   | G/T | 333 | 252.0 |\n| unaffected | XX | C/T | G/T | 300 | 274.5 |\n| unaffected | XY | T   | G/T | 334 | 283.0 |\n| unaffected | XX | C/C | T/T | 379 | 412.0 |\n| unaffected | XX | C/T | G/T | 391 | 237.0 |\n\n",
            "text/latex": "A tibble: 6 × 6\n\\begin{tabular}{llllll}\n Phenotype & Sex\\_chromosomes & rs139052738 & rs886040801 & Expression BMX & Expression BRCA2\\\\\n <chr> & <chr> & <chr> & <chr> & <dbl> & <dbl>\\\\\n\\hline\n\t unaffected & XX & C/T & T/T & 317 & 497.0\\\\\n\t unaffected & XY & T   & G/T & 333 & 252.0\\\\\n\t unaffected & XX & C/T & G/T & 300 & 274.5\\\\\n\t unaffected & XY & T   & G/T & 334 & 283.0\\\\\n\t unaffected & XX & C/C & T/T & 379 & 412.0\\\\\n\t unaffected & XX & C/T & G/T & 391 & 237.0\\\\\n\\end{tabular}\n",
            "text/plain": [
              "  Phenotype  Sex_chromosomes rs139052738 rs886040801 Expression BMX\n",
              "1 unaffected XX              C/T         T/T         317           \n",
              "2 unaffected XY              T           G/T         333           \n",
              "3 unaffected XX              C/T         G/T         300           \n",
              "4 unaffected XY              T           G/T         334           \n",
              "5 unaffected XX              C/C         T/T         379           \n",
              "6 unaffected XX              C/T         G/T         391           \n",
              "  Expression BRCA2\n",
              "1 497.0           \n",
              "2 252.0           \n",
              "3 274.5           \n",
              "4 283.0           \n",
              "5 412.0           \n",
              "6 237.0           "
            ]
          },
          "metadata": {}
        }
      ]
    },
    {
      "cell_type": "code",
      "source": [
        "x$rs886040801[x$rs886040801 == \"T/G\"]<-\"G/T\""
      ],
      "metadata": {
        "id": "dEHkwYSMX8VK"
      },
      "id": "dEHkwYSMX8VK",
      "execution_count": 10,
      "outputs": []
    },
    {
      "cell_type": "code",
      "source": [
        "my_table <- table(x$Phenotype, x$rs886040801)"
      ],
      "metadata": {
        "id": "rIjgB1mNYICX"
      },
      "id": "rIjgB1mNYICX",
      "execution_count": 11,
      "outputs": []
    },
    {
      "cell_type": "code",
      "source": [
        "my_table"
      ],
      "metadata": {
        "colab": {
          "base_uri": "https://localhost:8080/",
          "height": 86
        },
        "id": "Ug8rfm1oYOsQ",
        "outputId": "265f07db-acf1-4fe8-e376-f186d074e73c"
      },
      "id": "Ug8rfm1oYOsQ",
      "execution_count": 12,
      "outputs": [
        {
          "output_type": "display_data",
          "data": {
            "text/plain": [
              "                 \n",
              "                  G/G G/T T/T\n",
              "  familial cancer  32   1   0\n",
              "  unaffected        2  73  40"
            ]
          },
          "metadata": {}
        }
      ]
    },
    {
      "cell_type": "code",
      "source": [
        "chisq.test(my_table)"
      ],
      "metadata": {
        "colab": {
          "base_uri": "https://localhost:8080/",
          "height": 104
        },
        "id": "GTwQPYVVYZt0",
        "outputId": "945698aa-52d0-441e-8190-2a8dc3b1f036"
      },
      "id": "GTwQPYVVYZt0",
      "execution_count": 13,
      "outputs": [
        {
          "output_type": "display_data",
          "data": {
            "text/plain": [
              "\n",
              "\tPearson's Chi-squared test\n",
              "\n",
              "data:  my_table\n",
              "X-squared = 131.44, df = 2, p-value < 2.2e-16\n"
            ]
          },
          "metadata": {}
        }
      ]
    },
    {
      "cell_type": "code",
      "source": [
        "shapiro.test(x$`Expression BRCA2`)"
      ],
      "metadata": {
        "colab": {
          "base_uri": "https://localhost:8080/",
          "height": 104
        },
        "id": "k6HBupjnano8",
        "outputId": "09c547f3-5061-499f-f872-00bae10566c9"
      },
      "id": "k6HBupjnano8",
      "execution_count": 14,
      "outputs": [
        {
          "output_type": "display_data",
          "data": {
            "text/plain": [
              "\n",
              "\tShapiro-Wilk normality test\n",
              "\n",
              "data:  x$`Expression BRCA2`\n",
              "W = 0.91484, p-value = 1.172e-07\n"
            ]
          },
          "metadata": {}
        }
      ]
    },
    {
      "cell_type": "code",
      "source": [
        "kruskal.test(`Expression BRCA2` ~ rs886040801, x)"
      ],
      "metadata": {
        "colab": {
          "base_uri": "https://localhost:8080/",
          "height": 104
        },
        "id": "q95sz7hfbAKZ",
        "outputId": "1e50d912-dceb-4f8a-b532-8ffec3639bcc"
      },
      "id": "q95sz7hfbAKZ",
      "execution_count": 15,
      "outputs": [
        {
          "output_type": "display_data",
          "data": {
            "text/plain": [
              "\n",
              "\tKruskal-Wallis rank sum test\n",
              "\n",
              "data:  Expression BRCA2 by rs886040801\n",
              "Kruskal-Wallis chi-squared = 123.95, df = 2, p-value < 2.2e-16\n"
            ]
          },
          "metadata": {}
        }
      ]
    },
    {
      "cell_type": "code",
      "source": [
        "cor.test(x$`Expression BRCA2`, x$`Expression BMX`, method = \"spearman\")"
      ],
      "metadata": {
        "colab": {
          "base_uri": "https://localhost:8080/",
          "height": 208
        },
        "id": "un6HagXLbnps",
        "outputId": "58a49f25-07fa-4dd3-d3f7-d85893bd9b2c"
      },
      "id": "un6HagXLbnps",
      "execution_count": 17,
      "outputs": [
        {
          "output_type": "stream",
          "name": "stderr",
          "text": [
            "Warning message in cor.test.default(x$`Expression BRCA2`, x$`Expression BMX`, method = \"spearman\"):\n",
            "“Cannot compute exact p-value with ties”\n"
          ]
        },
        {
          "output_type": "display_data",
          "data": {
            "text/plain": [
              "\n",
              "\tSpearman's rank correlation rho\n",
              "\n",
              "data:  x$`Expression BRCA2` and x$`Expression BMX`\n",
              "S = 535112, p-value = 0.9083\n",
              "alternative hypothesis: true rho is not equal to 0\n",
              "sample estimates:\n",
              "        rho \n",
              "0.009553677 \n"
            ]
          },
          "metadata": {}
        }
      ]
    },
    {
      "cell_type": "code",
      "source": [
        "x$Phenotype <- factor(x$Phenotype)\n",
        "x$Sex_chromosomes <- factor(x$Sex_chromosomes)\n",
        "x$rs886040801 <- factor(x$rs886040801)\n",
        "x$rs139052738 <- factor(x$rs139052738)\n"
      ],
      "metadata": {
        "id": "IN7nQa5rerek"
      },
      "id": "IN7nQa5rerek",
      "execution_count": 22,
      "outputs": []
    },
    {
      "cell_type": "code",
      "source": [
        "pairs(x, lower.panel = NULL)"
      ],
      "metadata": {
        "colab": {
          "base_uri": "https://localhost:8080/",
          "height": 437
        },
        "id": "ZVyN9nYFefSL",
        "outputId": "a5cc21e9-fbb3-4ba8-bff7-611790a09bed"
      },
      "id": "ZVyN9nYFefSL",
      "execution_count": 23,
      "outputs": [
        {
          "output_type": "display_data",
          "data": {
            "text/plain": [
              "plot without title"
            ],
            "image/png": "[encoded data removed]"
          },
          "metadata": {
            "image/png": {
              "width": 420,
              "height": 420
            }
          }
        }
      ]
    },
    {
      "cell_type": "code",
      "source": [
        "levels(x$rs139052738)"
      ],
      "metadata": {
        "colab": {
          "base_uri": "https://localhost:8080/",
          "height": 34
        },
        "id": "MXFMtJFKfATl",
        "outputId": "8adf216b-4b19-4809-ad26-74647765fe51"
      },
      "id": "MXFMtJFKfATl",
      "execution_count": 24,
      "outputs": [
        {
          "output_type": "display_data",
          "data": {
            "text/html": [
              "<style>\n",
              ".list-inline {list-style: none; margin:0; padding: 0}\n",
              ".list-inline>li {display: inline-block}\n",
              ".list-inline>li:not(:last-child)::after {content: \"\\00b7\"; padding: 0 .5ex}\n",
              "</style>\n",
              "<ol class=list-inline><li>'C'</li><li>'C/C'</li><li>'C/T'</li><li>'T'</li><li>'T/C'</li><li>'T/T'</li></ol>\n"
            ],
            "text/markdown": "1. 'C'\n2. 'C/C'\n3. 'C/T'\n4. 'T'\n5. 'T/C'\n6. 'T/T'\n\n\n",
            "text/latex": "\\begin{enumerate*}\n\\item 'C'\n\\item 'C/C'\n\\item 'C/T'\n\\item 'T'\n\\item 'T/C'\n\\item 'T/T'\n\\end{enumerate*}\n",
            "text/plain": [
              "[1] \"C\"   \"C/C\" \"C/T\" \"T\"   \"T/C\" \"T/T\""
            ]
          },
          "metadata": {}
        }
      ]
    },
    {
      "cell_type": "code",
      "source": [
        "install.packages(\"caTools\")\n",
        "install.packages(\"e1071\")"
      ],
      "metadata": {
        "colab": {
          "base_uri": "https://localhost:8080/"
        },
        "id": "7S9XuDvTfL3D",
        "outputId": "38c04164-8a46-426e-b986-319783396ff6"
      },
      "id": "7S9XuDvTfL3D",
      "execution_count": 25,
      "outputs": [
        {
          "output_type": "stream",
          "name": "stderr",
          "text": [
            "Installing package into ‘/usr/local/lib/R/site-library’\n",
            "(as ‘lib’ is unspecified)\n",
            "\n",
            "also installing the dependency ‘bitops’\n",
            "\n",
            "\n",
            "Installing package into ‘/usr/local/lib/R/site-library’\n",
            "(as ‘lib’ is unspecified)\n",
            "\n",
            "also installing the dependency ‘proxy’\n",
            "\n",
            "\n"
          ]
        }
      ]
    },
    {
      "cell_type": "code",
      "source": [
        "library(caTools)\n",
        "library(e1071)"
      ],
      "metadata": {
        "id": "v_bwrVlwfSU9"
      },
      "id": "v_bwrVlwfSU9",
      "execution_count": 26,
      "outputs": []
    },
    {
      "cell_type": "code",
      "source": [
        "disease_data <- x"
      ],
      "metadata": {
        "id": "sCdi6Ps-fX0j"
      },
      "id": "sCdi6Ps-fX0j",
      "execution_count": 27,
      "outputs": []
    },
    {
      "cell_type": "code",
      "source": [
        "split_size = 0.8\n",
        "\n",
        "sample_size = floor(split_size * nrow(disease_data))\n",
        "\n",
        "set.seed(123)\n",
        "train_indices <- sample(seq_len(nrow(disease_data)), size = sample_size)\n",
        "\n",
        "train <- disease_data[train_indices, ]\n",
        "test <- disease_data[-train_indices, ]"
      ],
      "metadata": {
        "id": "nMMIO2-JfbUQ"
      },
      "id": "nMMIO2-JfbUQ",
      "execution_count": 28,
      "outputs": []
    },
    {
      "cell_type": "code",
      "source": [
        "install.packages(\"party\")"
      ],
      "metadata": {
        "colab": {
          "base_uri": "https://localhost:8080/"
        },
        "id": "dabC2HCLfyPt",
        "outputId": "12592da8-0924-437d-e6b1-0f839a7a76de"
      },
      "id": "dabC2HCLfyPt",
      "execution_count": 29,
      "outputs": [
        {
          "output_type": "stream",
          "name": "stderr",
          "text": [
            "Installing package into ‘/usr/local/lib/R/site-library’\n",
            "(as ‘lib’ is unspecified)\n",
            "\n",
            "also installing the dependencies ‘TH.data’, ‘libcoin’, ‘matrixStats’, ‘multcomp’, ‘mvtnorm’, ‘modeltools’, ‘strucchange’, ‘coin’, ‘zoo’, ‘sandwich’\n",
            "\n",
            "\n"
          ]
        }
      ]
    },
    {
      "cell_type": "code",
      "source": [
        "library(party)\n",
        "tree.train <- ctree(Phenotype ~ ., data = train)\n",
        "plot(tree.train)"
      ],
      "metadata": {
        "colab": {
          "base_uri": "https://localhost:8080/",
          "height": 437
        },
        "id": "9FknqckugFR4",
        "outputId": "a82919b8-abc2-404f-95b8-c45a09be4cd5"
      },
      "id": "9FknqckugFR4",
      "execution_count": 31,
      "outputs": [
        {
          "output_type": "display_data",
          "data": {
            "text/plain": [
              "plot without title"
            ],
            "image/png": "[encoded data removed]"
          },
          "metadata": {
            "image/png": {
              "width": 420,
              "height": 420
            }
          }
        }
      ]
    },
    {
      "cell_type": "code",
      "source": [
        "test$Phenotype.tree <- predict(tree.train, test)"
      ],
      "metadata": {
        "id": "blrUPWyehcoF"
      },
      "id": "blrUPWyehcoF",
      "execution_count": 32,
      "outputs": []
    },
    {
      "cell_type": "code",
      "source": [
        "tail(test)"
      ],
      "metadata": {
        "colab": {
          "base_uri": "https://localhost:8080/",
          "height": 286
        },
        "id": "Ka74i54yhpzX",
        "outputId": "6c90887e-fca1-44a1-c183-3e4bd6ac92c9"
      },
      "id": "Ka74i54yhpzX",
      "execution_count": 36,
      "outputs": [
        {
          "output_type": "display_data",
          "data": {
            "text/html": [
              "<table class=\"dataframe\">\n",
              "<caption>A tibble: 6 × 7</caption>\n",
              "<thead>\n",
              "\t<tr><th scope=col>Phenotype</th><th scope=col>Sex_chromosomes</th><th scope=col>rs139052738</th><th scope=col>rs886040801</th><th scope=col>Expression BMX</th><th scope=col>Expression BRCA2</th><th scope=col>Phenotype.tree</th></tr>\n",
              "\t<tr><th scope=col>&lt;fct&gt;</th><th scope=col>&lt;fct&gt;</th><th scope=col>&lt;fct&gt;</th><th scope=col>&lt;fct&gt;</th><th scope=col>&lt;dbl&gt;</th><th scope=col>&lt;dbl&gt;</th><th scope=col>&lt;fct&gt;</th></tr>\n",
              "</thead>\n",
              "<tbody>\n",
              "\t<tr><td>unaffected</td><td>XX</td><td>T/T</td><td>T/T</td><td>346</td><td>440.0</td><td>unaffected</td></tr>\n",
              "\t<tr><td>unaffected</td><td>XY</td><td>C  </td><td>G/T</td><td>366</td><td>278.0</td><td>unaffected</td></tr>\n",
              "\t<tr><td>unaffected</td><td>XX</td><td>T/T</td><td>G/T</td><td>339</td><td>266.5</td><td>unaffected</td></tr>\n",
              "\t<tr><td>unaffected</td><td>XX</td><td>C/C</td><td>T/T</td><td>385</td><td>495.0</td><td>unaffected</td></tr>\n",
              "\t<tr><td>unaffected</td><td>XY</td><td>C  </td><td>G/T</td><td>325</td><td>263.0</td><td>unaffected</td></tr>\n",
              "\t<tr><td>unaffected</td><td>XX</td><td>C/T</td><td>T/T</td><td>331</td><td>445.0</td><td>unaffected</td></tr>\n",
              "</tbody>\n",
              "</table>\n"
            ],
            "text/markdown": "\nA tibble: 6 × 7\n\n| Phenotype &lt;fct&gt; | Sex_chromosomes &lt;fct&gt; | rs139052738 &lt;fct&gt; | rs886040801 &lt;fct&gt; | Expression BMX &lt;dbl&gt; | Expression BRCA2 &lt;dbl&gt; | Phenotype.tree &lt;fct&gt; |\n|---|---|---|---|---|---|---|\n| unaffected | XX | T/T | T/T | 346 | 440.0 | unaffected |\n| unaffected | XY | C   | G/T | 366 | 278.0 | unaffected |\n| unaffected | XX | T/T | G/T | 339 | 266.5 | unaffected |\n| unaffected | XX | C/C | T/T | 385 | 495.0 | unaffected |\n| unaffected | XY | C   | G/T | 325 | 263.0 | unaffected |\n| unaffected | XX | C/T | T/T | 331 | 445.0 | unaffected |\n\n",
            "text/latex": "A tibble: 6 × 7\n\\begin{tabular}{lllllll}\n Phenotype & Sex\\_chromosomes & rs139052738 & rs886040801 & Expression BMX & Expression BRCA2 & Phenotype.tree\\\\\n <fct> & <fct> & <fct> & <fct> & <dbl> & <dbl> & <fct>\\\\\n\\hline\n\t unaffected & XX & T/T & T/T & 346 & 440.0 & unaffected\\\\\n\t unaffected & XY & C   & G/T & 366 & 278.0 & unaffected\\\\\n\t unaffected & XX & T/T & G/T & 339 & 266.5 & unaffected\\\\\n\t unaffected & XX & C/C & T/T & 385 & 495.0 & unaffected\\\\\n\t unaffected & XY & C   & G/T & 325 & 263.0 & unaffected\\\\\n\t unaffected & XX & C/T & T/T & 331 & 445.0 & unaffected\\\\\n\\end{tabular}\n",
            "text/plain": [
              "  Phenotype  Sex_chromosomes rs139052738 rs886040801 Expression BMX\n",
              "1 unaffected XX              T/T         T/T         346           \n",
              "2 unaffected XY              C           G/T         366           \n",
              "3 unaffected XX              T/T         G/T         339           \n",
              "4 unaffected XX              C/C         T/T         385           \n",
              "5 unaffected XY              C           G/T         325           \n",
              "6 unaffected XX              C/T         T/T         331           \n",
              "  Expression BRCA2 Phenotype.tree\n",
              "1 440.0            unaffected    \n",
              "2 278.0            unaffected    \n",
              "3 266.5            unaffected    \n",
              "4 495.0            unaffected    \n",
              "5 263.0            unaffected    \n",
              "6 445.0            unaffected    "
            ]
          },
          "metadata": {}
        }
      ]
    }
  ],
  "metadata": {
    "kernelspec": {
      "display_name": "R",
      "language": "R",
      "name": "ir"
    },
    "language_info": {
      "codemirror_mode": "r",
      "file_extension": ".r",
      "mimetype": "text/x-r-source",
      "name": "R",
      "pygments_lexer": "r",
      "version": "3.5.1"
    },
    "colab": {
      "name": "R_template.ipynb",
      "provenance": [],
      "collapsed_sections": [],
      "include_colab_link": true
    }
  },
  "nbformat": 4,
  "nbformat_minor": 5
}